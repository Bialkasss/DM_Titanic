{
 "cells": [
  {
   "cell_type": "markdown",
   "metadata": {},
   "source": [
    "## Processing a classification dataset\n",
    "\n",
    "The dataset which will be used can be found here [Titanic](https://www.kaggle.com/competitions/titanic).\n",
    "\n",
    "Main goal is to improve the general classification result which is defined as accuracy \n",
    "\n",
    "There will be: \n",
    "1. Checking the accuracy before applaing any preprocessing algorithms\n",
    "2. Analyzing our data\n",
    "3. Using preprocessing algorithms:\n",
    "- Feature normalization and standardization\n",
    "- Feature selection  \n",
    "- Feature extraction\n",
    "4. Comparing the results"
   ]
  },
  {
   "cell_type": "code",
   "execution_count": 1,
   "metadata": {},
   "outputs": [
    {
     "name": "stderr",
     "output_type": "stream",
     "text": [
      "c:\\Users\\Susanne\\AppData\\Local\\Programs\\Python\\Python311\\Lib\\site-packages\\tqdm\\auto.py:21: TqdmWarning: IProgress not found. Please update jupyter and ipywidgets. See https://ipywidgets.readthedocs.io/en/stable/user_install.html\n",
      "  from .autonotebook import tqdm as notebook_tqdm\n"
     ]
    }
   ],
   "source": [
    "### libraries\n",
    "import umap\n",
    "from sklearn.feature_selection import f_classif, GenericUnivariateSelect, chi2\n",
    "\n",
    "import pandas as pd\n",
    "import classification as clas\n",
    "import matplotlib.pyplot as plt\n",
    "import seaborn as sns"
   ]
  },
  {
   "cell_type": "code",
   "execution_count": 2,
   "metadata": {},
   "outputs": [],
   "source": [
    "# reading the data\n",
    "data = pd.read_csv('train.csv')\n",
    "train_df, test_df = clas.getTwoDatasets(data)"
   ]
  },
  {
   "cell_type": "markdown",
   "metadata": {},
   "source": [
    "**1.Checking the accuracy**"
   ]
  },
  {
   "cell_type": "code",
   "execution_count": 3,
   "metadata": {},
   "outputs": [
    {
     "name": "stdout",
     "output_type": "stream",
     "text": [
      "Accuracy before preprocessing:  0.6974789915966386\n"
     ]
    }
   ],
   "source": [
    "# checking the initial accuarcy\n",
    "pd.options.mode.copy_on_write = True\n",
    "\n",
    "X_train = train_df[['Pclass','Age','Fare','Sex']]\n",
    "X_train['Sex'] = X_train.Sex.copy().apply(lambda x : 1.0 if x == 'male' else 2.0).copy()\n",
    "X_train = X_train.fillna(0)\n",
    "y_train = train_df['Survived']\n",
    "\n",
    "X_test = test_df[['Pclass','Age','Fare','Sex']]\n",
    "X_test.Sex = X_test.Sex.apply(lambda x : 1.0 if x == 'male' else 2.0)\n",
    "X_test = X_test.fillna(0)\n",
    "y_test = test_df['Survived']\n",
    "\n",
    "print(\"Accuracy before preprocessing: \", clas.getAccuracy(X_train, y_train,\n",
    "                                                        X_test, y_test))"
   ]
  },
  {
   "cell_type": "markdown",
   "metadata": {},
   "source": [
    "**2.Analyzing our data**"
   ]
  },
  {
   "cell_type": "code",
   "execution_count": 4,
   "metadata": {},
   "outputs": [
    {
     "data": {
      "text/html": [
       "<div>\n",
       "<style scoped>\n",
       "    .dataframe tbody tr th:only-of-type {\n",
       "        vertical-align: middle;\n",
       "    }\n",
       "\n",
       "    .dataframe tbody tr th {\n",
       "        vertical-align: top;\n",
       "    }\n",
       "\n",
       "    .dataframe thead th {\n",
       "        text-align: right;\n",
       "    }\n",
       "</style>\n",
       "<table border=\"1\" class=\"dataframe\">\n",
       "  <thead>\n",
       "    <tr style=\"text-align: right;\">\n",
       "      <th></th>\n",
       "      <th>Column</th>\n",
       "      <th>Variable_Type</th>\n",
       "      <th>the percentage values of unique values</th>\n",
       "    </tr>\n",
       "  </thead>\n",
       "  <tbody>\n",
       "    <tr>\n",
       "      <th>0</th>\n",
       "      <td>PassengerId</td>\n",
       "      <td>discrete (unique)</td>\n",
       "      <td>1.000</td>\n",
       "    </tr>\n",
       "    <tr>\n",
       "      <th>1</th>\n",
       "      <td>Survived</td>\n",
       "      <td>discrete</td>\n",
       "      <td>0.004</td>\n",
       "    </tr>\n",
       "    <tr>\n",
       "      <th>2</th>\n",
       "      <td>Pclass</td>\n",
       "      <td>discrete</td>\n",
       "      <td>0.006</td>\n",
       "    </tr>\n",
       "    <tr>\n",
       "      <th>3</th>\n",
       "      <td>Name</td>\n",
       "      <td>discrete</td>\n",
       "      <td>1.000</td>\n",
       "    </tr>\n",
       "    <tr>\n",
       "      <th>4</th>\n",
       "      <td>Sex</td>\n",
       "      <td>categorical</td>\n",
       "      <td>0.004</td>\n",
       "    </tr>\n",
       "    <tr>\n",
       "      <th>5</th>\n",
       "      <td>Age</td>\n",
       "      <td>continuous</td>\n",
       "      <td>0.144</td>\n",
       "    </tr>\n",
       "    <tr>\n",
       "      <th>6</th>\n",
       "      <td>SibSp</td>\n",
       "      <td>discrete</td>\n",
       "      <td>0.013</td>\n",
       "    </tr>\n",
       "    <tr>\n",
       "      <th>7</th>\n",
       "      <td>Parch</td>\n",
       "      <td>discrete</td>\n",
       "      <td>0.011</td>\n",
       "    </tr>\n",
       "    <tr>\n",
       "      <th>8</th>\n",
       "      <td>Ticket</td>\n",
       "      <td>discrete</td>\n",
       "      <td>0.835</td>\n",
       "    </tr>\n",
       "    <tr>\n",
       "      <th>9</th>\n",
       "      <td>Fare</td>\n",
       "      <td>continuous</td>\n",
       "      <td>0.375</td>\n",
       "    </tr>\n",
       "    <tr>\n",
       "      <th>10</th>\n",
       "      <td>Cabin</td>\n",
       "      <td>categorical</td>\n",
       "      <td>0.172</td>\n",
       "    </tr>\n",
       "    <tr>\n",
       "      <th>11</th>\n",
       "      <td>Embarked</td>\n",
       "      <td>categorical</td>\n",
       "      <td>0.006</td>\n",
       "    </tr>\n",
       "  </tbody>\n",
       "</table>\n",
       "</div>"
      ],
      "text/plain": [
       "         Column      Variable_Type  the percentage values of unique values\n",
       "0   PassengerId  discrete (unique)                                   1.000\n",
       "1      Survived           discrete                                   0.004\n",
       "2        Pclass           discrete                                   0.006\n",
       "3          Name           discrete                                   1.000\n",
       "4           Sex        categorical                                   0.004\n",
       "5           Age         continuous                                   0.144\n",
       "6         SibSp           discrete                                   0.013\n",
       "7         Parch           discrete                                   0.011\n",
       "8        Ticket           discrete                                   0.835\n",
       "9          Fare         continuous                                   0.375\n",
       "10        Cabin        categorical                                   0.172\n",
       "11     Embarked        categorical                                   0.006"
      ]
     },
     "execution_count": 4,
     "metadata": {},
     "output_type": "execute_result"
    }
   ],
   "source": [
    "headers = train_df.columns.to_list()\n",
    "procentage = []\n",
    "for head in headers:\n",
    "    procentage.append( round((train_df[head].nunique()/ len(train_df[head])),3))\n",
    "\n",
    "variable_types = ['discrete (unique)', 'discrete', 'discrete', 'discrete', 'categorical', 'continuous', 'discrete', 'discrete', 'discrete', 'continuous', 'categorical','categorical']\n",
    "variable_df = pd.DataFrame({'Column': headers, 'Variable_Type': variable_types, 'the percentage values of unique values': procentage})\n",
    "variable_df"
   ]
  },
  {
   "cell_type": "markdown",
   "metadata": {},
   "source": [
    "- fill NaN values with mean value"
   ]
  },
  {
   "cell_type": "code",
   "execution_count": 5,
   "metadata": {},
   "outputs": [
    {
     "name": "stdout",
     "output_type": "stream",
     "text": [
      "NaN values for Cabin:  413\n",
      "NaN values for Age:  111\n",
      "Age was with NaN values\n",
      "Cabin was with NaN values\n",
      "NaN values for Cabin after:  0\n",
      "NaN values for Age after:  0\n",
      "columns to changed:  ['Name', 'Sex', 'Ticket', 'Cabin', 'Embarked']\n"
     ]
    },
    {
     "data": {
      "text/html": [
       "<div>\n",
       "<style scoped>\n",
       "    .dataframe tbody tr th:only-of-type {\n",
       "        vertical-align: middle;\n",
       "    }\n",
       "\n",
       "    .dataframe tbody tr th {\n",
       "        vertical-align: top;\n",
       "    }\n",
       "\n",
       "    .dataframe thead th {\n",
       "        text-align: right;\n",
       "    }\n",
       "</style>\n",
       "<table border=\"1\" class=\"dataframe\">\n",
       "  <thead>\n",
       "    <tr style=\"text-align: right;\">\n",
       "      <th></th>\n",
       "      <th>PassengerId</th>\n",
       "      <th>Survived</th>\n",
       "      <th>Pclass</th>\n",
       "      <th>Name</th>\n",
       "      <th>Sex</th>\n",
       "      <th>Age</th>\n",
       "      <th>SibSp</th>\n",
       "      <th>Parch</th>\n",
       "      <th>Ticket</th>\n",
       "      <th>Fare</th>\n",
       "      <th>Cabin</th>\n",
       "      <th>Embarked</th>\n",
       "    </tr>\n",
       "  </thead>\n",
       "  <tbody>\n",
       "    <tr>\n",
       "      <th>0</th>\n",
       "      <td>1</td>\n",
       "      <td>0</td>\n",
       "      <td>3</td>\n",
       "      <td>68</td>\n",
       "      <td>1</td>\n",
       "      <td>22.0</td>\n",
       "      <td>1</td>\n",
       "      <td>0</td>\n",
       "      <td>328</td>\n",
       "      <td>7.2500</td>\n",
       "      <td>38</td>\n",
       "      <td>2</td>\n",
       "    </tr>\n",
       "    <tr>\n",
       "      <th>1</th>\n",
       "      <td>2</td>\n",
       "      <td>1</td>\n",
       "      <td>1</td>\n",
       "      <td>114</td>\n",
       "      <td>0</td>\n",
       "      <td>38.0</td>\n",
       "      <td>1</td>\n",
       "      <td>0</td>\n",
       "      <td>387</td>\n",
       "      <td>71.2833</td>\n",
       "      <td>49</td>\n",
       "      <td>0</td>\n",
       "    </tr>\n",
       "    <tr>\n",
       "      <th>2</th>\n",
       "      <td>3</td>\n",
       "      <td>1</td>\n",
       "      <td>3</td>\n",
       "      <td>205</td>\n",
       "      <td>0</td>\n",
       "      <td>26.0</td>\n",
       "      <td>0</td>\n",
       "      <td>0</td>\n",
       "      <td>437</td>\n",
       "      <td>7.9250</td>\n",
       "      <td>38</td>\n",
       "      <td>2</td>\n",
       "    </tr>\n",
       "    <tr>\n",
       "      <th>3</th>\n",
       "      <td>4</td>\n",
       "      <td>1</td>\n",
       "      <td>1</td>\n",
       "      <td>159</td>\n",
       "      <td>0</td>\n",
       "      <td>35.0</td>\n",
       "      <td>1</td>\n",
       "      <td>0</td>\n",
       "      <td>35</td>\n",
       "      <td>53.1000</td>\n",
       "      <td>32</td>\n",
       "      <td>2</td>\n",
       "    </tr>\n",
       "    <tr>\n",
       "      <th>4</th>\n",
       "      <td>5</td>\n",
       "      <td>0</td>\n",
       "      <td>3</td>\n",
       "      <td>7</td>\n",
       "      <td>1</td>\n",
       "      <td>35.0</td>\n",
       "      <td>0</td>\n",
       "      <td>0</td>\n",
       "      <td>296</td>\n",
       "      <td>8.0500</td>\n",
       "      <td>38</td>\n",
       "      <td>2</td>\n",
       "    </tr>\n",
       "  </tbody>\n",
       "</table>\n",
       "</div>"
      ],
      "text/plain": [
       "   PassengerId  Survived  Pclass  Name  Sex   Age  SibSp  Parch  Ticket  \\\n",
       "0            1         0       3    68    1  22.0      1      0     328   \n",
       "1            2         1       1   114    0  38.0      1      0     387   \n",
       "2            3         1       3   205    0  26.0      0      0     437   \n",
       "3            4         1       1   159    0  35.0      1      0      35   \n",
       "4            5         0       3     7    1  35.0      0      0     296   \n",
       "\n",
       "      Fare  Cabin  Embarked  \n",
       "0   7.2500     38         2  \n",
       "1  71.2833     49         0  \n",
       "2   7.9250     38         2  \n",
       "3  53.1000     32         2  \n",
       "4   8.0500     38         2  "
      ]
     },
     "execution_count": 5,
     "metadata": {},
     "output_type": "execute_result"
    }
   ],
   "source": [
    "# change all NaN values to mean or mode\n",
    "\n",
    "# print('NaN values for Cabin: ',train_df['Cabin'].isnull().sum())\n",
    "# print('NaN values for Age: ',train_df['Age'].isnull().sum())\n",
    "\n",
    "train_df = clas.changeNullValuesToMean(train_df)\n",
    "\n",
    "# print('NaN values for Cabin after: ',train_df['Cabin'].isnull().sum())\n",
    "# print('NaN values for Age after: ',train_df['Age'].isnull().sum())\n",
    "\n",
    "train_df = clas.changeCaterogicalToDescrite(train_df)\n",
    "train_df.head()"
   ]
  },
  {
   "cell_type": "markdown",
   "metadata": {},
   "source": [
    "**3.1.Normalization and standarization**"
   ]
  },
  {
   "cell_type": "code",
   "execution_count": 6,
   "metadata": {},
   "outputs": [
    {
     "data": {
      "text/html": [
       "<div>\n",
       "<style scoped>\n",
       "    .dataframe tbody tr th:only-of-type {\n",
       "        vertical-align: middle;\n",
       "    }\n",
       "\n",
       "    .dataframe tbody tr th {\n",
       "        vertical-align: top;\n",
       "    }\n",
       "\n",
       "    .dataframe thead th {\n",
       "        text-align: right;\n",
       "    }\n",
       "</style>\n",
       "<table border=\"1\" class=\"dataframe\">\n",
       "  <thead>\n",
       "    <tr style=\"text-align: right;\">\n",
       "      <th></th>\n",
       "      <th>PassengerId</th>\n",
       "      <th>Pclass</th>\n",
       "      <th>Name</th>\n",
       "      <th>Sex</th>\n",
       "      <th>Age</th>\n",
       "      <th>SibSp</th>\n",
       "      <th>Parch</th>\n",
       "      <th>Ticket</th>\n",
       "      <th>Fare</th>\n",
       "      <th>Cabin</th>\n",
       "      <th>Embarked</th>\n",
       "    </tr>\n",
       "  </thead>\n",
       "  <tbody>\n",
       "    <tr>\n",
       "      <th>0</th>\n",
       "      <td>0.000000</td>\n",
       "      <td>1.0</td>\n",
       "      <td>0.127580</td>\n",
       "      <td>1.0</td>\n",
       "      <td>0.302491</td>\n",
       "      <td>0.125</td>\n",
       "      <td>0.0</td>\n",
       "      <td>0.737079</td>\n",
       "      <td>0.014151</td>\n",
       "      <td>0.417582</td>\n",
       "      <td>0.666667</td>\n",
       "    </tr>\n",
       "    <tr>\n",
       "      <th>1</th>\n",
       "      <td>0.001876</td>\n",
       "      <td>0.0</td>\n",
       "      <td>0.213884</td>\n",
       "      <td>0.0</td>\n",
       "      <td>0.530249</td>\n",
       "      <td>0.125</td>\n",
       "      <td>0.0</td>\n",
       "      <td>0.869663</td>\n",
       "      <td>0.139136</td>\n",
       "      <td>0.538462</td>\n",
       "      <td>0.000000</td>\n",
       "    </tr>\n",
       "    <tr>\n",
       "      <th>2</th>\n",
       "      <td>0.003752</td>\n",
       "      <td>1.0</td>\n",
       "      <td>0.384615</td>\n",
       "      <td>0.0</td>\n",
       "      <td>0.359431</td>\n",
       "      <td>0.000</td>\n",
       "      <td>0.0</td>\n",
       "      <td>0.982022</td>\n",
       "      <td>0.015469</td>\n",
       "      <td>0.417582</td>\n",
       "      <td>0.666667</td>\n",
       "    </tr>\n",
       "    <tr>\n",
       "      <th>3</th>\n",
       "      <td>0.005629</td>\n",
       "      <td>0.0</td>\n",
       "      <td>0.298311</td>\n",
       "      <td>0.0</td>\n",
       "      <td>0.487544</td>\n",
       "      <td>0.125</td>\n",
       "      <td>0.0</td>\n",
       "      <td>0.078652</td>\n",
       "      <td>0.103644</td>\n",
       "      <td>0.351648</td>\n",
       "      <td>0.666667</td>\n",
       "    </tr>\n",
       "    <tr>\n",
       "      <th>4</th>\n",
       "      <td>0.007505</td>\n",
       "      <td>1.0</td>\n",
       "      <td>0.013133</td>\n",
       "      <td>1.0</td>\n",
       "      <td>0.487544</td>\n",
       "      <td>0.000</td>\n",
       "      <td>0.0</td>\n",
       "      <td>0.665169</td>\n",
       "      <td>0.015713</td>\n",
       "      <td>0.417582</td>\n",
       "      <td>0.666667</td>\n",
       "    </tr>\n",
       "  </tbody>\n",
       "</table>\n",
       "</div>"
      ],
      "text/plain": [
       "   PassengerId  Pclass      Name  Sex       Age  SibSp  Parch    Ticket  \\\n",
       "0     0.000000     1.0  0.127580  1.0  0.302491  0.125    0.0  0.737079   \n",
       "1     0.001876     0.0  0.213884  0.0  0.530249  0.125    0.0  0.869663   \n",
       "2     0.003752     1.0  0.384615  0.0  0.359431  0.000    0.0  0.982022   \n",
       "3     0.005629     0.0  0.298311  0.0  0.487544  0.125    0.0  0.078652   \n",
       "4     0.007505     1.0  0.013133  1.0  0.487544  0.000    0.0  0.665169   \n",
       "\n",
       "       Fare     Cabin  Embarked  \n",
       "0  0.014151  0.417582  0.666667  \n",
       "1  0.139136  0.538462  0.000000  \n",
       "2  0.015469  0.417582  0.666667  \n",
       "3  0.103644  0.351648  0.666667  \n",
       "4  0.015713  0.417582  0.666667  "
      ]
     },
     "execution_count": 6,
     "metadata": {},
     "output_type": "execute_result"
    }
   ],
   "source": [
    "## Normalization and standarization\n",
    "\n",
    "normalized_data = clas.normalizeData(train_df, 'Survived')\n",
    "normalized_data.head()\n",
    "\n",
    "# scale = StandardScaler().fit(normalized_data) ->>> ???\n",
    "# standarized_data = pd.DataFrame(scale.transform(normalized_data), columns=cols)"
   ]
  },
  {
   "cell_type": "code",
   "execution_count": 7,
   "metadata": {},
   "outputs": [
    {
     "name": "stdout",
     "output_type": "stream",
     "text": [
      "Age was with NaN values\n",
      "Cabin was with NaN values\n",
      "columns to changed:  ['Name', 'Sex', 'Ticket', 'Cabin', 'Embarked']\n"
     ]
    },
    {
     "data": {
      "text/html": [
       "<div>\n",
       "<style scoped>\n",
       "    .dataframe tbody tr th:only-of-type {\n",
       "        vertical-align: middle;\n",
       "    }\n",
       "\n",
       "    .dataframe tbody tr th {\n",
       "        vertical-align: top;\n",
       "    }\n",
       "\n",
       "    .dataframe thead th {\n",
       "        text-align: right;\n",
       "    }\n",
       "</style>\n",
       "<table border=\"1\" class=\"dataframe\">\n",
       "  <thead>\n",
       "    <tr style=\"text-align: right;\">\n",
       "      <th></th>\n",
       "      <th>PassengerId</th>\n",
       "      <th>Pclass</th>\n",
       "      <th>Name</th>\n",
       "      <th>Sex</th>\n",
       "      <th>Age</th>\n",
       "      <th>SibSp</th>\n",
       "      <th>Parch</th>\n",
       "      <th>Ticket</th>\n",
       "      <th>Fare</th>\n",
       "      <th>Cabin</th>\n",
       "      <th>Embarked</th>\n",
       "    </tr>\n",
       "  </thead>\n",
       "  <tbody>\n",
       "    <tr>\n",
       "      <th>0</th>\n",
       "      <td>0.000000</td>\n",
       "      <td>1.0</td>\n",
       "      <td>0.134831</td>\n",
       "      <td>0.0</td>\n",
       "      <td>0.371701</td>\n",
       "      <td>0.0</td>\n",
       "      <td>0.000000</td>\n",
       "      <td>0.408497</td>\n",
       "      <td>0.016908</td>\n",
       "      <td>0.126761</td>\n",
       "      <td>0.666667</td>\n",
       "    </tr>\n",
       "    <tr>\n",
       "      <th>1</th>\n",
       "      <td>0.002809</td>\n",
       "      <td>0.5</td>\n",
       "      <td>0.396067</td>\n",
       "      <td>0.0</td>\n",
       "      <td>0.082684</td>\n",
       "      <td>0.0</td>\n",
       "      <td>0.333333</td>\n",
       "      <td>0.849673</td>\n",
       "      <td>0.051237</td>\n",
       "      <td>0.126761</td>\n",
       "      <td>0.666667</td>\n",
       "    </tr>\n",
       "    <tr>\n",
       "      <th>2</th>\n",
       "      <td>0.005618</td>\n",
       "      <td>0.0</td>\n",
       "      <td>0.129213</td>\n",
       "      <td>1.0</td>\n",
       "      <td>0.560191</td>\n",
       "      <td>0.0</td>\n",
       "      <td>0.000000</td>\n",
       "      <td>0.032680</td>\n",
       "      <td>0.051822</td>\n",
       "      <td>0.197183</td>\n",
       "      <td>0.666667</td>\n",
       "    </tr>\n",
       "    <tr>\n",
       "      <th>3</th>\n",
       "      <td>0.008427</td>\n",
       "      <td>0.0</td>\n",
       "      <td>0.553371</td>\n",
       "      <td>0.0</td>\n",
       "      <td>0.371701</td>\n",
       "      <td>0.0</td>\n",
       "      <td>0.000000</td>\n",
       "      <td>0.915033</td>\n",
       "      <td>0.207728</td>\n",
       "      <td>0.126761</td>\n",
       "      <td>0.000000</td>\n",
       "    </tr>\n",
       "    <tr>\n",
       "      <th>4</th>\n",
       "      <td>0.011236</td>\n",
       "      <td>1.0</td>\n",
       "      <td>0.789326</td>\n",
       "      <td>1.0</td>\n",
       "      <td>0.375848</td>\n",
       "      <td>0.0</td>\n",
       "      <td>0.000000</td>\n",
       "      <td>0.653595</td>\n",
       "      <td>0.028302</td>\n",
       "      <td>0.126761</td>\n",
       "      <td>0.666667</td>\n",
       "    </tr>\n",
       "  </tbody>\n",
       "</table>\n",
       "</div>"
      ],
      "text/plain": [
       "   PassengerId  Pclass      Name  Sex       Age  SibSp     Parch    Ticket  \\\n",
       "0     0.000000     1.0  0.134831  0.0  0.371701    0.0  0.000000  0.408497   \n",
       "1     0.002809     0.5  0.396067  0.0  0.082684    0.0  0.333333  0.849673   \n",
       "2     0.005618     0.0  0.129213  1.0  0.560191    0.0  0.000000  0.032680   \n",
       "3     0.008427     0.0  0.553371  0.0  0.371701    0.0  0.000000  0.915033   \n",
       "4     0.011236     1.0  0.789326  1.0  0.375848    0.0  0.000000  0.653595   \n",
       "\n",
       "       Fare     Cabin  Embarked  \n",
       "0  0.016908  0.126761  0.666667  \n",
       "1  0.051237  0.126761  0.666667  \n",
       "2  0.051822  0.197183  0.666667  \n",
       "3  0.207728  0.126761  0.000000  \n",
       "4  0.028302  0.126761  0.666667  "
      ]
     },
     "execution_count": 7,
     "metadata": {},
     "output_type": "execute_result"
    }
   ],
   "source": [
    "test_df = clas.changeNullValuesToMean(test_df)\n",
    "test_df = clas.changeCaterogicalToDescrite(test_df)\n",
    "normalized_data_test = clas.normalizeData(test_df, 'Survived')\n",
    "normalized_data_test.head()"
   ]
  },
  {
   "cell_type": "code",
   "execution_count": 8,
   "metadata": {},
   "outputs": [
    {
     "name": "stdout",
     "output_type": "stream",
     "text": [
      "Accuracy after 1 step of preprocessing:  0.7871148459383753\n"
     ]
    }
   ],
   "source": [
    "#### AFTER ###############\n",
    "\n",
    "X = normalized_data\n",
    "y = train_df['Survived']\n",
    "\n",
    "X_test = normalized_data_test\n",
    "y_test = test_df['Survived']\n",
    "\n",
    "print(\"Accuracy after 1 step of preprocessing: \", clas.getAccuracy(X, y, X_test, y_test))"
   ]
  },
  {
   "cell_type": "markdown",
   "metadata": {},
   "source": [
    "**3.2.Feature selection**\n",
    "\n",
    "\n",
    "1. Normalization and standrization do not have any influence on corellation, therefore we do it on the initialy dataframe to see correlation between target value and other attribute too. (Notice, that the correlation values don't change if we do not apply normalization schema). Present them on heatmap\n",
    "\n",
    "2. Instead of using variances to collect the best features we will use the ranking function ([f_classif](https://scikit-learn.org/stable/modules/generated/sklearn.feature_selection.f_classif.html#sklearn.feature_selection.f_classif)). This method calculates the F coefficients and p-values for each feature in the context of classification. The higher the F coefficient, the more significant the feature is for classification"
   ]
  },
  {
   "cell_type": "code",
   "execution_count": 9,
   "metadata": {},
   "outputs": [
    {
     "data": {
      "text/plain": [
       "<AxesSubplot: >"
      ]
     },
     "execution_count": 9,
     "metadata": {},
     "output_type": "execute_result"
    },
    {
     "data": {
      "image/png": "[encoded data removed]",
      "text/plain": [
       "<Figure size 500x400 with 2 Axes>"
      ]
     },
     "metadata": {},
     "output_type": "display_data"
    }
   ],
   "source": [
    "plt.figure(figsize=(5,4))\n",
    "sns.heatmap(abs(train_df.corr()), cmap='RdBu')"
   ]
  },
  {
   "cell_type": "code",
   "execution_count": 24,
   "metadata": {},
   "outputs": [
    {
     "name": "stdout",
     "output_type": "stream",
     "text": [
      "[  0.46288574  41.56998554   4.66817704 262.65032831   3.81378144\n",
      "   1.21353767   3.99840146   9.73500053  23.3426722    6.36952716\n",
      "  10.36119727]\n"
     ]
    },
    {
     "data": {
      "image/png": "[encoded data removed]",
      "text/plain": [
       "<Figure size 1400x1000 with 1 Axes>"
      ]
     },
     "metadata": {},
     "output_type": "display_data"
    }
   ],
   "source": [
    "cols_all = train_df.columns.tolist()\n",
    "cols = cols_all[:1] + cols_all[2:]\n",
    "scores_anova, p_vals_anova = f_classif(normalized_data, train_df['Survived'])\n",
    "pd.DataFrame(scores_anova, cols).plot(kind='barh', title='ANOVA')\n",
    "print(scores_anova)"
   ]
  },
  {
   "cell_type": "code",
   "execution_count": 28,
   "metadata": {},
   "outputs": [
    {
     "name": "stdout",
     "output_type": "stream",
     "text": [
      "     Pclass  Sex      Fare  Embarked\n",
      "0       1.0  1.0  0.014151  0.666667\n",
      "1       0.0  0.0  0.139136  0.000000\n",
      "2       1.0  0.0  0.015469  0.666667\n",
      "3       0.0  0.0  0.103644  0.666667\n",
      "4       1.0  1.0  0.015713  0.666667\n",
      "..      ...  ...       ...       ...\n",
      "529     0.5  1.0  0.022447  0.666667\n",
      "530     0.5  0.0  0.050749  0.666667\n",
      "531     1.0  1.0  0.014110  0.000000\n",
      "532     1.0  1.0  0.014110  0.000000\n",
      "533     1.0  0.0  0.043640  0.000000\n",
      "\n",
      "[534 rows x 4 columns]\n"
     ]
    },
    {
     "data": {
      "image/png": "[encoded data removed]",
      "text/plain": [
       "<Figure size 1400x1000 with 1 Axes>"
      ]
     },
     "metadata": {},
     "output_type": "display_data"
    }
   ],
   "source": [
    "gus_object = GenericUnivariateSelect(chi2, mode='k_best', param=4) \n",
    "\n",
    "new_data = gus_object.fit_transform(normalized_data, train_df['Survived'])\n",
    "new_dataframe = pd.DataFrame(new_data, columns=gus_object.get_feature_names_out())\n",
    "print(new_dataframe) # we now all possible columns to choose\n",
    "\n",
    "plt.plot(new_dataframe[new_dataframe.columns[0]][train_df['Survived'] == 0], new_dataframe[new_dataframe.columns[2]][train_df['Survived'] == 0], 'r.', label='Survived = 0')\n",
    "plt.plot(new_dataframe[new_dataframe.columns[0]][train_df['Survived'] == 1], new_dataframe[new_dataframe.columns[2]][train_df['Survived'] == 1], 'g.', label='Survived = 1')\n",
    "plt.xlabel(gus_object.get_feature_names_out()[0])\n",
    "plt.ylabel(gus_object.get_feature_names_out()[2])\n",
    "plt.legend()\n",
    "plt.show()"
   ]
  },
  {
   "cell_type": "markdown",
   "metadata": {},
   "source": [
    "Summary:\n",
    "\n",
    "- From heatmap, we can get info that the 'Patch' or 'SibSp' can be delated becasue they are high correleted\n",
    "- From the ANOVA plot we know that 'Sex','Pclass' and 'Fare' are good for ou classification\n",
    "- The last plot is not good, because we do not have much continuous values, therfore it mostly makes 2 or 4 points on the plot only"
   ]
  },
  {
   "cell_type": "code",
   "execution_count": 26,
   "metadata": {},
   "outputs": [
    {
     "name": "stdout",
     "output_type": "stream",
     "text": [
      "Accuracy after 2 step of preprocessing:  0.8011204481792717\n"
     ]
    }
   ],
   "source": [
    "##### droping some columns\n",
    "columns_to_stay = ['Sex', 'Fare', 'Pclass', 'Survived', 'Embarked']\n",
    "for column in train_df.columns.tolist():\n",
    "    if column not in columns_to_stay:\n",
    "        normalized_data.drop(column, axis=1, inplace=True)\n",
    "        normalized_data_test.drop(column, axis=1, inplace=True)\n",
    "\n",
    "#  checking the accuraccy after\n",
    "\n",
    "X = normalized_data\n",
    "y = train_df['Survived']\n",
    "\n",
    "X_test = normalized_data_test\n",
    "y_test = test_df['Survived']\n",
    "\n",
    "print(\"Accuracy after 2 step of preprocessing: \", clas.getAccuracy(X, y, X_test, y_test))"
   ]
  },
  {
   "cell_type": "markdown",
   "metadata": {},
   "source": [
    "**3.3.Feature extraction**"
   ]
  },
  {
   "cell_type": "code",
   "execution_count": null,
   "metadata": {},
   "outputs": [],
   "source": [
    "sns.set(style='white', context='notebook', rc={'figure.figsize':(14,10)})\n",
    "df = pd.DataFrame(data_df, columns=data_df.columns.tolist())\n",
    "sns.pairplot(df, hue='Survived')"
   ]
  },
  {
   "cell_type": "code",
   "execution_count": 10,
   "metadata": {},
   "outputs": [
    {
     "ename": "NameError",
     "evalue": "name 'data_df' is not defined",
     "output_type": "error",
     "traceback": [
      "\u001b[1;31m---------------------------------------------------------------------------\u001b[0m",
      "\u001b[1;31mNameError\u001b[0m                                 Traceback (most recent call last)",
      "Cell \u001b[1;32mIn[10], line 1\u001b[0m\n\u001b[1;32m----> 1\u001b[0m y \u001b[38;5;241m=\u001b[39m \u001b[43mdata_df\u001b[49m[\u001b[38;5;124m'\u001b[39m\u001b[38;5;124mSurvived\u001b[39m\u001b[38;5;124m'\u001b[39m]\n\u001b[0;32m      2\u001b[0m df \u001b[38;5;241m=\u001b[39m pd\u001b[38;5;241m.\u001b[39mDataFrame(data_df, columns\u001b[38;5;241m=\u001b[39mdata_df\u001b[38;5;241m.\u001b[39mcolumns\u001b[38;5;241m.\u001b[39mtolist())\n\u001b[0;32m      4\u001b[0m umap_transformer \u001b[38;5;241m=\u001b[39m umap\u001b[38;5;241m.\u001b[39mUMAP(\n\u001b[0;32m      5\u001b[0m     n_neighbors\u001b[38;5;241m=\u001b[39m\u001b[38;5;241m9\u001b[39m,\n\u001b[0;32m      6\u001b[0m     n_components\u001b[38;5;241m=\u001b[39m\u001b[38;5;241m4\u001b[39m,\n\u001b[0;32m      7\u001b[0m     min_dist\u001b[38;5;241m=\u001b[39m\u001b[38;5;241m0.2\u001b[39m\n\u001b[0;32m      8\u001b[0m )\n",
      "\u001b[1;31mNameError\u001b[0m: name 'data_df' is not defined"
     ]
    }
   ],
   "source": [
    "y = data_df['Survived']\n",
    "df = pd.DataFrame(data_df, columns=data_df.columns.tolist())\n",
    "\n",
    "umap_transformer = umap.UMAP(\n",
    "    n_neighbors=9,\n",
    "    n_components=4,\n",
    "    min_dist=0.2\n",
    ")\n",
    "\n",
    "X_umap = umap_transformer.fit_transform(normalized_data)\n",
    "X_umap_2 = umap_transformer.fit_transform(normalized_data_2)\n",
    "\n",
    "sns.scatterplot(data=df, x=X_umap[:, 0], y=X_umap[:, 1], hue=y).set_title('UMAP projection of Titanic dataset')"
   ]
  },
  {
   "cell_type": "markdown",
   "metadata": {},
   "source": [
    "Summary:\n",
    "- from previous plot nothing special only combantion of 'Sex' and 'Cabin maybe\n",
    "- we have to use UMAP, because other two functions need number of components and it is min from (number of features and unique class type-1). In our case it's 1 therefore we have only one axis and i dont know how to plot it then"
   ]
  },
  {
   "cell_type": "code",
   "execution_count": null,
   "metadata": {},
   "outputs": [],
   "source": [
    "#  checking the accuraccy after\n",
    "#### AFTER  SELECTION ####################### CORRECT?\n",
    "\n",
    "X = X_umap\n",
    "y = data_df['Survived']\n",
    "y = y.to_numpy()\n",
    "\n",
    "X_test = X_umap_2\n",
    "y_test = test_df['Survived']\n",
    "y_test = y_test.to_numpy()\n",
    "\n",
    "classifier.fit(X,y)\n",
    "predicts = classifier.predict(X_test)\n",
    "report = classification_report(y_test, predicts)\n",
    "accuracy_after_3 = accuracy_score(y_test, predicts)\n",
    "\n",
    "print(\"Accuracy after preprocessing: \", accuracy_after_3)"
   ]
  },
  {
   "cell_type": "markdown",
   "metadata": {},
   "source": [
    "**4.Comparing results**"
   ]
  },
  {
   "cell_type": "code",
   "execution_count": null,
   "metadata": {},
   "outputs": [],
   "source": [
    "print(\"Accuracy before preprocessing: \", accuracy_before)\n",
    "print(\"Accuracy after 1 preprocessing: \", accuracy_after_1)\n",
    "print(\"Accuracy after 2 preprocessing: \", accuracy_after_2)\n",
    "print(\"Accuracy after 3 preprocessing: \", accuracy_after_3)"
   ]
  }
 ],
 "metadata": {
  "kernelspec": {
   "display_name": "Python 3",
   "language": "python",
   "name": "python3"
  },
  "language_info": {
   "codemirror_mode": {
    "name": "ipython",
    "version": 3
   },
   "file_extension": ".py",
   "mimetype": "text/x-python",
   "name": "python",
   "nbconvert_exporter": "python",
   "pygments_lexer": "ipython3",
   "version": "3.11.1"
  }
 },
 "nbformat": 4,
 "nbformat_minor": 2
}
